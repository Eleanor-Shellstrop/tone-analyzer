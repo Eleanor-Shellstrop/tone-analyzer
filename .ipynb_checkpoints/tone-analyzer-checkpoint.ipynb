{
 "cells": [
  {
   "cell_type": "markdown",
   "id": "8b3adf38",
   "metadata": {},
   "source": [
    "# 0. Install Dependencies"
   ]
  },
  {
   "cell_type": "code",
   "execution_count": null,
   "id": "dc33df9f",
   "metadata": {},
   "outputs": [],
   "source": [
    "pip install --upgrade \"ibm-watson>=5.3.0\""
   ]
  },
  {
   "cell_type": "markdown",
   "id": "875f6d23",
   "metadata": {},
   "source": [
    "# 1. Authenticate"
   ]
  },
  {
   "cell_type": "code",
   "execution_count": null,
   "id": "4975fc54",
   "metadata": {},
   "outputs": [],
   "source": [
    "# Save to local environment variable\n",
    "\n",
    "import os\n",
    "\n",
    "apikey = os.environ.get('TONE_API')\n",
    "url = os.environ.get('TONE_URL')"
   ]
  },
  {
   "cell_type": "code",
   "execution_count": null,
   "id": "9e77d321",
   "metadata": {},
   "outputs": [],
   "source": [
    "from ibm_watson import ToneAnalyzerV3\n",
    "from ibm_cloud_sdk_core.authenticators import IAMAuthenticator\n",
    "\n",
    "authenticator = IAMAuthenticator(apikey)\n",
    "tone_analyzer = ToneAnalyzerV3(\n",
    "    version='{version}',\n",
    "    authenticator=authenticator\n",
    ")\n",
    "\n",
    "tone_analyzer.set_service_url(url)\n"
   ]
  }
 ],
 "metadata": {
  "kernelspec": {
   "display_name": "Python 3",
   "language": "python",
   "name": "python3"
  },
  "language_info": {
   "codemirror_mode": {
    "name": "ipython",
    "version": 3
   },
   "file_extension": ".py",
   "mimetype": "text/x-python",
   "name": "python",
   "nbconvert_exporter": "python",
   "pygments_lexer": "ipython3",
   "version": "3.8.8"
  }
 },
 "nbformat": 4,
 "nbformat_minor": 5
}
